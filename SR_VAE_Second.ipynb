{
 "cells": [
  {
   "cell_type": "code",
   "execution_count": 1,
   "metadata": {},
   "outputs": [],
   "source": [
    "from typing import *\n",
    "import matplotlib\n",
    "import matplotlib.pyplot as plt\n",
    "from IPython.display import Image, display, clear_output\n",
    "import numpy as np\n",
    "%matplotlib nbagg\n",
    "%matplotlib inline\n",
    "import seaborn as sns\n",
    "import pandas as pd\n",
    "sns.set_style(\"whitegrid\")\n",
    "import imageio\n",
    "\n",
    "\n",
    "from torch.utils.data import DataLoader\n",
    "from torch.utils.data.sampler import SubsetRandomSampler\n",
    "from torchvision.transforms import ToTensor\n",
    "from functools import reduce\n",
    "\n",
    "\n",
    "try:\n",
    "    from plotting import make_vae_plots\n",
    "except Exception as ex:\n",
    "    print(f\"If using Colab, you may need to upload `plotting.py`. \\\n",
    "          \\nIn the left pannel, click `Files > upload to session storage` and select the file `plotting.py` from your computer \\\n",
    "          \\n---------------------------------------------\")\n",
    "    print(ex)"
   ]
  },
  {
   "cell_type": "code",
   "execution_count": 2,
   "metadata": {},
   "outputs": [
    {
     "name": "stdout",
     "output_type": "stream",
     "text": [
      ">> Using device: cuda:0\n"
     ]
    }
   ],
   "source": [
    "import math \n",
    "import torch\n",
    "from torch import sigmoid\n",
    "from torch import nn, Tensor\n",
    "from torch.nn.functional import softplus\n",
    "from torch.distributions import Distribution\n",
    "from torch.distributions.bernoulli import Bernoulli\n",
    "from torch.distributions.normal import Normal\n",
    "\n",
    "device = torch.device(\"cuda:0\" if torch.cuda.is_available() else \"cpu\")\n",
    "print(f\">> Using device: {device}\")\n",
    "\n",
    "\n",
    "class ReparameterizedDiagonalGaussian(Distribution):\n",
    "    \"\"\"\n",
    "    A distribution `N(y | mu, sigma I)` compatible with the reparameterization trick given `epsilon ~ N(0, 1)`.\n",
    "    \"\"\"\n",
    "    def __init__(self, mu: Tensor, log_sigma:Tensor):\n",
    "        assert mu.shape == log_sigma.shape, f\"Tensors `mu` : {mu.shape} and ` log_sigma` : {log_sigma.shape} must be of the same shape\"\n",
    "        self.mu = mu\n",
    "        self.sigma = log_sigma.exp()\n",
    "        \n",
    "    def sample_epsilon(self) -> Tensor:\n",
    "        \"\"\"`\\eps ~ N(0, I)`\"\"\"\n",
    "        return torch.empty_like(self.mu).normal_()\n",
    "        \n",
    "    def sample(self) -> Tensor:\n",
    "        \"\"\"sample `z ~ N(z | mu, sigma)` (without gradients)\"\"\"\n",
    "        with torch.no_grad():\n",
    "            return self.rsample()\n",
    "        \n",
    "    def rsample(self) -> Tensor:\n",
    "        \"\"\"sample `z ~ N(z | mu, sigma)` (with the reparameterization trick) \"\"\"\n",
    "        return self.mu + torch.mul(self.sigma, self.sample_epsilon()) # <- your code\n",
    "        \n",
    "    def log_prob(self, z:Tensor) -> Tensor:\n",
    "        \"\"\"return the log probability: log `p(z)`\"\"\"\n",
    "        n = torch.distributions.normal.Normal(self.mu, self.sigma)\n",
    "        return n.log_prob(z) # <- your code"
   ]
  },
  {
   "cell_type": "code",
   "execution_count": 3,
   "metadata": {},
   "outputs": [],
   "source": [
    "import os\n",
    "os.chdir('C:/Users/Bruger/Desktop/courses/deep learning 2020/9-project')\n",
    "import logitmixture"
   ]
  },
  {
   "cell_type": "code",
   "execution_count": 4,
   "metadata": {},
   "outputs": [],
   "source": [
    "import os\n",
    "filepath='C:/Users/Bruger/Desktop/courses/deep learning 2020/9-project'\n",
    "os.chdir(filepath)\n",
    "\n",
    "trainset=torch.load('cifar_train')\n",
    "testset=torch.load('cifar_test')\n",
    "\n",
    "\n",
    "#Choose the batch_size\n",
    "\n",
    "batchs=50\n",
    "\n",
    "\n",
    "trainloader = torch.utils.data.DataLoader(trainset, batch_size=batchs,shuffle=True)\n",
    "testloader = torch.utils.data.DataLoader(testset, batch_size=batchs,shuffle=True)"
   ]
  },
  {
   "cell_type": "code",
   "execution_count": 5,
   "metadata": {},
   "outputs": [],
   "source": [
    "train_data_iter = iter(trainloader)\n",
    "test_data_iter = iter(testloader)"
   ]
  },
  {
   "cell_type": "code",
   "execution_count": 6,
   "metadata": {},
   "outputs": [
    {
     "data": {
      "text/plain": [
       "\"\\nfor i, ax in enumerate(axarr.flat):\\n    ax.imshow(np.transpose(images[i,:,:,:], (1, 2, 0)))\\n    ax.axis('off')\\n    \\nplt.suptitle('CIFAR Batch')\\nplt.show()\\n\""
      ]
     },
     "execution_count": 6,
     "metadata": {},
     "output_type": "execute_result"
    }
   ],
   "source": [
    "#plot a few MNIST examples\n",
    "#f, axarr = plt.subplots(4, 4, figsize=(16, 16))\n",
    "\n",
    "# Load a batch of images into memory\n",
    "images, images_ta = next(train_data_iter)\n",
    "\"\"\"\n",
    "for i, ax in enumerate(axarr.flat):\n",
    "    ax.imshow(np.transpose(images[i,:,:,:], (1, 2, 0)))\n",
    "    ax.axis('off')\n",
    "    \n",
    "plt.suptitle('CIFAR Batch')\n",
    "plt.show()\n",
    "\"\"\""
   ]
  },
  {
   "cell_type": "code",
   "execution_count": 7,
   "metadata": {},
   "outputs": [
    {
     "data": {
      "text/plain": [
       "\"\\nf, axarr = plt.subplots(4, 4, figsize=(16, 16))\\n\\nfor i, ax in enumerate(axarr.flat):\\n    ax.imshow(np.transpose(images_ta[i,:,:,:], (1, 2, 0)))\\n    ax.axis('off')\\n    \\nplt.suptitle('CIFAR Batch targets')\\nplt.show()\\n\""
      ]
     },
     "execution_count": 7,
     "metadata": {},
     "output_type": "execute_result"
    }
   ],
   "source": [
    "\"\"\"\n",
    "f, axarr = plt.subplots(4, 4, figsize=(16, 16))\n",
    "\n",
    "for i, ax in enumerate(axarr.flat):\n",
    "    ax.imshow(np.transpose(images_ta[i,:,:,:], (1, 2, 0)))\n",
    "    ax.axis('off')\n",
    "    \n",
    "plt.suptitle('CIFAR Batch targets')\n",
    "plt.show()\n",
    "\"\"\""
   ]
  },
  {
   "cell_type": "markdown",
   "metadata": {},
   "source": [
    "## Building the model\n",
    "When defining the model the latent layer must act as a bottleneck of information, so that we ensure that we find a strong internal representation."
   ]
  },
  {
   "cell_type": "code",
   "execution_count": 8,
   "metadata": {},
   "outputs": [
    {
     "name": "stdout",
     "output_type": "stream",
     "text": [
      "VariationalAutoencoder(\n",
      "  (pool): MaxPool2d(kernel_size=2, stride=2, padding=0, dilation=1, ceil_mode=False)\n",
      "  (conv_1): Conv2d(3, 64, kernel_size=(5, 5), stride=(1, 1))\n",
      "  (conv_2): Conv2d(64, 32, kernel_size=(5, 5), stride=(1, 1))\n",
      "  (conv_3): Conv2d(32, 3, kernel_size=(3, 3), stride=(1, 1))\n",
      "  (conv_4): Conv2d(3, 64, kernel_size=(3, 3), stride=(1, 1), padding=(1, 1))\n",
      "  (conv_5): Conv2d(64, 128, kernel_size=(5, 5), stride=(1, 1), padding=(2, 2))\n",
      "  (conv_6): Conv2d(128, 64, kernel_size=(5, 5), stride=(1, 1), padding=(2, 2))\n",
      "  (conv_7): Conv2d(64, 3, kernel_size=(3, 3), stride=(1, 1), padding=(1, 1))\n",
      "  (up): Upsample(scale_factor=2.0, mode=bicubic)\n",
      "  (lin_1): Linear(in_features=192, out_features=64, bias=True)\n",
      "  (lin_2): Linear(in_features=32, out_features=192, bias=True)\n",
      "  (lin_pri): Linear(in_features=192, out_features=64, bias=True)\n",
      ")\n"
     ]
    }
   ],
   "source": [
    "from torch.nn import Linear, Conv2d, BatchNorm2d, MaxPool2d, Dropout2d, Upsample\n",
    "from torch.nn.functional import relu, elu, relu6, tanh, softmax\n",
    "\n",
    "\n",
    "class VariationalAutoencoder(nn.Module):\n",
    "    \"\"\"A Variational Autoencoder with\n",
    "    * a Bernoulli observation model `p_\\theta(x | z) = B(x | g_\\theta(z))`\n",
    "    * a Gaussian prior `p(z) = N(z | 0, I)`\n",
    "    * a Gaussian posterior `q_\\phi(z|x) = N(z | \\mu(x), \\sigma(x))`\n",
    "    \"\"\"\n",
    "    \n",
    "    def __init__(self, input_shape:torch.Size, latent_features:int, batch_size:int) -> None:\n",
    "        super(VariationalAutoencoder, self).__init__()\n",
    "        \n",
    "        self.input_shape = input_shape\n",
    "        self.latent_features = latent_features\n",
    "\n",
    "        self.pool = nn.MaxPool2d(kernel_size=2, stride=2)\n",
    "        \n",
    "        self.conv_1 = Conv2d(in_channels=3,out_channels=64,kernel_size=5,stride=1)\n",
    "        self.conv_2 = Conv2d(in_channels=64,out_channels=32,kernel_size=5,stride=1)\n",
    "        self.conv_3 = Conv2d(in_channels=32,out_channels=3,kernel_size=3,stride=1)\n",
    "\n",
    "        self.conv_4 = Conv2d(in_channels=3,out_channels=64,kernel_size=3,stride=1,padding=1)\n",
    "        self.conv_5 = Conv2d(in_channels=64,out_channels=128,kernel_size=5,stride=1,padding=2)\n",
    "        self.conv_6 = Conv2d(in_channels=128,out_channels=64,kernel_size=5,stride=1,padding=2)\n",
    "        self.conv_7 = Conv2d(in_channels=64,out_channels=3,kernel_size=3,stride=1,padding=1)\n",
    "\n",
    "        \n",
    "        self.up = Upsample(scale_factor=2, mode='bicubic')\n",
    "        \n",
    "        \n",
    "        self.lin_1 = Linear(in_features=3*8*8, out_features=2*latent_features)\n",
    "        self.lin_2 = Linear(in_features=latent_features, out_features=3*8*8)\n",
    "        self.lin_pri = Linear(in_features=3*8*8, out_features=2*latent_features) \n",
    "\n",
    "        \n",
    "    # Inference Network\n",
    "    # Encode the observation `x` into the parameters of the posterior distribution\n",
    "    # `q_\\phi(z|x) = N(z | \\mu(x), \\sigma(x)), \\mu(x),\\log\\sigma(x) = h_\\phi(x)`\n",
    "    def encoder(self, x:Tensor):\n",
    "            \n",
    "        x = relu(self.conv_1(x))\n",
    "        x = relu(self.pool(x))\n",
    "        x = relu(self.conv_2(x))\n",
    "        x = relu(self.conv_3(x))\n",
    "        x = x.view(batchs,3*8*8)\n",
    "        x = relu(self.lin_1(x))\n",
    "\n",
    "        return x\n",
    "        \n",
    "    # Generative Model\n",
    "    # Decode the latent sample `z` into the parameters of the observation model\n",
    "    # `p_\\theta(x | z) = \\prod_i B(x_i | g_\\theta(x))`\n",
    "    def decoder(self, x:Tensor):\n",
    "            \n",
    "        x = relu(self.lin_2(x))\n",
    "        x = x.view(batchs,3,8,8)\n",
    "        x = relu(self.conv_4(x))\n",
    "        x = relu(self.up(x))\n",
    "        x = relu(self.conv_5(x))\n",
    "        x = relu(self.up(x))\n",
    "        x = relu(self.conv_6(x))\n",
    "        x = sigmoid(self.conv_7(x))\n",
    "\n",
    "        return x\n",
    "    \n",
    "        \n",
    "    def posterior(self, x:Tensor) -> Distribution:\n",
    "        \"\"\"return the distribution `q(x|x) = N(z | \\mu(x), \\sigma(x))`\"\"\"\n",
    "        # compute the parameters of the posterior\n",
    "        h_x = self.encoder(x)\n",
    "        mu, log_sigma =  h_x.chunk(2, dim=-1)\n",
    "        # return a distribution `q(x|x) = N(z | \\mu(x), \\sigma(x))`\n",
    "        return ReparameterizedDiagonalGaussian(mu, log_sigma)\n",
    "    \n",
    "    def prior(self, x:Tensor)-> Distribution:\n",
    "        \"\"\"return the distribution `p(z)`\"\"\"\n",
    "        x = x.view(batchs,8*8*3)\n",
    "        x = relu(self.lin_pri(x))\n",
    "        mu, log_sigma = x.chunk(2, dim=-1)\n",
    "        # return the distribution `p(z)`\n",
    "        return ReparameterizedDiagonalGaussian(mu, log_sigma)\n",
    "    \n",
    "    def observation_model(self, z:Tensor) -> Distribution:\n",
    "        \"\"\"return the distribution `p(x|z)`\"\"\"\n",
    "        px_logits = self.decoder(z)\n",
    "        #px_logits = px_logits.view(-1, *self.input_shape) # reshape the output\n",
    "        return Normal(loc=px_logits,scale=torch.ones(px_logits.shape).to(device)/100)\n",
    "        #return logitmixture.DiscretizedMixtureLogitsDistribution(nr_mix=batchs,logits=px_logits)\n",
    "    \n",
    "    def separate(self, x):\n",
    "        return x[1],x[0]\n",
    "        \n",
    "        \n",
    "    def forward(self, x) -> Dict[str, Any]:\n",
    "        #compute the posterior q(z|x) (encoder), sample z~q(z|x) and return the distribution p(x|z) (decoder)\n",
    "        x, pz = self.separate(x)\n",
    "        \n",
    "        # define the posterior q(z|x) / encode x into q(z|x)\n",
    "        qz = self.posterior(x)\n",
    "        \n",
    "        # define the prior p(z)\n",
    "        pxfromprior = self.sample_from_prior(pz)\n",
    "        pz = self.prior(pz)\n",
    "        \n",
    "        # sample the posterior using the reparameterization trick: z ~ q(z | x)\n",
    "        z = qz.rsample()\n",
    "        \n",
    "        # define the observation model p(x|z) = B(x | g(z))\n",
    "        px = self.observation_model(z)\n",
    "        \n",
    "        \n",
    "        return {'px': px, 'pz': pz, 'qz': qz, 'z': z, 'pxprior': pxfromprior}\n",
    "    \n",
    "    \n",
    "    def sample_from_prior(self, x:Tensor):\n",
    "        \"\"\"sample z~p(z) and return p(x|z)\"\"\"\n",
    "        \n",
    "        # degine the prior p(z)\n",
    "        pz = self.prior(x)\n",
    "        \n",
    "        # sample the prior \n",
    "        z = pz.rsample()\n",
    "        \n",
    "        # define the observation model p(x|z) = B(x | g(z))\n",
    "        px = self.observation_model(z)\n",
    "        \n",
    "        return px\n",
    "\n",
    "\n",
    "latent_features = 32\n",
    "vae = VariationalAutoencoder(images[0].shape, latent_features, batchs)\n",
    "print(vae)"
   ]
  },
  {
   "cell_type": "markdown",
   "metadata": {},
   "source": [
    "## Module for Variational Inference\n"
   ]
  },
  {
   "cell_type": "code",
   "execution_count": 9,
   "metadata": {},
   "outputs": [],
   "source": [
    "def reduce(x:Tensor) -> Tensor:\n",
    "    \"\"\"for each datapoint: sum over all dimensions\"\"\"\n",
    "    return x.view(x.size(0), -1).sum(dim=1)\n",
    "\n",
    "class VariationalInference(nn.Module):\n",
    "    def __init__(self, beta:float=1.):\n",
    "        super().__init__()\n",
    "        self.beta = beta\n",
    "        \n",
    "    def forward(self, model:nn.Module, x:Tensor, mypri:Tensor) -> Tuple[Tensor, Dict]:\n",
    "        \n",
    "        # forward pass through the model\n",
    "        outputs = model((mypri,x))\n",
    "        \n",
    "        # unpack outputs\n",
    "        px, pz, qz, z = [outputs[k] for k in [\"pxprior\", \"pz\", \"qz\", \"z\"]]\n",
    "        \n",
    "        # evaluate log probabilities\n",
    "        log_px = reduce(px.log_prob(x))\n",
    "        log_pz = reduce(pz.log_prob(z))\n",
    "        log_qz = reduce(qz.log_prob(z))\n",
    "        \n",
    "        \n",
    "        #myrec=outputs['px']\n",
    "        #x_sample = myrec.sample()\n",
    "\n",
    "\n",
    "        # compute the ELBO with and without the beta parameter: \n",
    "        # `L^\\beta = E_q [ log p(x|z) - \\beta * D_KL(q(z|x) | p(z))`\n",
    "        # where `D_KL(q(z|x) | p(z)) = log q(z|x) - log p(z)`\n",
    "        kl = log_qz - log_pz\n",
    "        elbo = log_px - kl# <- your code here\n",
    "        beta_elbo = log_px - self.beta * kl # <- your code here\n",
    "        \n",
    "        # loss\n",
    "        loss = -beta_elbo.mean()#+nn.MSELoss()(x,x_sample)\n",
    "        \n",
    "        # prepare the output\n",
    "        with torch.no_grad():\n",
    "            diagnostics = {'elbo': elbo, 'log_px':log_px, 'kl': kl}\n",
    "            \n",
    "        return loss, diagnostics, outputs"
   ]
  },
  {
   "cell_type": "code",
   "execution_count": 10,
   "metadata": {},
   "outputs": [
    {
     "name": "stdout",
     "output_type": "stream",
     "text": [
      "loss   | mean = 1034979.188, shape: []\n",
      "elbo   | mean = -1034979.188, shape: [50]\n",
      "log_px | mean = -1034978.188, shape: [50]\n",
      "kl     | mean =      1.035, shape: [50]\n"
     ]
    },
    {
     "name": "stderr",
     "output_type": "stream",
     "text": [
      "C:\\Users\\Bruger\\Anaconda3\\lib\\site-packages\\torch\\nn\\functional.py:3121: UserWarning: Default upsampling behavior when mode=bicubic is changed to align_corners=False since 0.4.0. Please specify align_corners=True if the old behavior is desired. See the documentation of nn.Upsample for details.\n",
      "  \"See the documentation of nn.Upsample for details.\".format(mode))\n"
     ]
    }
   ],
   "source": [
    "vi = VariationalInference(beta=1.0)\n",
    "loss, diagnostics, outputs = vi(vae.to(device),images_ta.to(device),images.to(device))\n",
    "print(f\"{'loss':6} | mean = {loss:10.3f}, shape: {list(loss.shape)}\")\n",
    "for key, tensor in diagnostics.items():\n",
    "    print(f\"{key:6} | mean = {tensor.mean():10.3f}, shape: {list(tensor.shape)}\")"
   ]
  },
  {
   "cell_type": "code",
   "execution_count": 11,
   "metadata": {},
   "outputs": [],
   "source": [
    "from collections import defaultdict\n",
    "# define the models, evaluator and optimizer\n",
    "\n",
    "# VAE\n",
    "latent_features = 64*3\n",
    "vae = VariationalAutoencoder(images[0].shape, latent_features,batchs)\n",
    "\n",
    "# Evaluator: Variational Inference\n",
    "beta = 0.9\n",
    "vi = VariationalInference(beta=beta)\n",
    "\n",
    "# The Adam optimizer works really well with VAEs.\n",
    "optimizer = torch.optim.Adam(vae.parameters(), lr=1e-3)\n",
    "\n",
    "# define dictionary to store the training curves\n",
    "training_data = defaultdict(list)\n",
    "validation_data = defaultdict(list)\n",
    "\n",
    "epoch = 0"
   ]
  },
  {
   "cell_type": "code",
   "execution_count": 12,
   "metadata": {},
   "outputs": [
    {
     "data": {
      "image/png": "[encoded data removed]",
      "text/plain": [
       "<Figure size 1152x288 with 3 Axes>"
      ]
     },
     "metadata": {},
     "output_type": "display_data"
    }
   ],
   "source": [
    "num_epochs = 50\n",
    "\n",
    "device = torch.device(\"cuda:0\" if torch.cuda.is_available() else \"cpu\")\n",
    "print(f\">> Using device: {device}\")\n",
    "\n",
    "# move the model to the device\n",
    "vae = vae.to(device)\n",
    "\n",
    "# training..\n",
    "while epoch < num_epochs:\n",
    "    epoch+= 1\n",
    "    training_epoch_data = defaultdict(list)\n",
    "    vae.train()\n",
    "    \n",
    "    # Go through each batch in the training dataset using the loader\n",
    "    # Note that y is not necessarily known as it is here\n",
    "    for y, x in trainloader:\n",
    "        x = x.to(device)\n",
    "        y = y.to(device)\n",
    "        \n",
    "        # perform a forward pass through the model and compute the ELBO\n",
    "        loss, diagnostics, outputs = vi(vae, x, y)\n",
    "        \n",
    "        optimizer.zero_grad()\n",
    "        loss.backward()\n",
    "        optimizer.step()\n",
    "        \n",
    "        # gather data for the current bach\n",
    "        for k, v in diagnostics.items():\n",
    "            training_epoch_data[k] += [v.mean().item()]\n",
    "            \n",
    "\n",
    "    # gather data for the full epoch\n",
    "    for k, v in training_epoch_data.items():\n",
    "        training_data[k] += [np.mean(training_epoch_data[k])]\n",
    "\n",
    "    # Evaluate on a single batch, do not propagate gradients\n",
    "    with torch.no_grad():\n",
    "        vae.eval()\n",
    "        \n",
    "        # Just load a single batch from the test loader\n",
    "        y, x = next(iter(testloader))\n",
    "        x = x.to(device)\n",
    "        y = y.to(device)\n",
    "        # perform a forward pass through the model and compute the ELBO\n",
    "        loss, diagnostics, outputs = vi(vae, x, y)\n",
    "        \n",
    "        # gather data for the validation step\n",
    "        for k, v in diagnostics.items():\n",
    "            validation_data[k] += [v.mean().item()]\n",
    "    \n",
    "    # Reproduce the figure from the begining of the notebook, plot the training curves and show latent samples\n",
    "    # plot ELBO\n",
    "    \n",
    "    f,axes=plt.subplots(1,3,figsize=(16,4))\n",
    "    ax = axes[0]\n",
    "    ax.set_title(r'ELBO: $\\mathcal{L} ( \\mathbf{x} )$')\n",
    "    ax.plot(training_data['elbo'], label='Training')\n",
    "    ax.plot(validation_data['elbo'], label='Validation')\n",
    "    ax.legend()\n",
    "\n",
    "    # plot KL\n",
    "    ax = axes[1]\n",
    "    ax.set_title(r'$\\mathcal{D}_{\\operatorname{KL}}\\left(q_\\phi(\\mathbf{z}|\\mathbf{x})\\ |\\ p(\\mathbf{z})\\right)$')\n",
    "    ax.plot(training_data['kl'], label='Training')\n",
    "    ax.plot(validation_data['kl'], label='Validation')\n",
    "    ax.legend()\n",
    "\n",
    "    # plot NLL\n",
    "    ax = axes[2]\n",
    "    ax.set_title(r'$\\log p_\\theta(\\mathbf{x} | \\mathbf{z})$')\n",
    "    ax.plot(training_data['log_px'], label='Training')\n",
    "    ax.plot(validation_data['log_px'], label='Validation')\n",
    "    ax.legend()\n",
    "    \n",
    "    plt.show()\n",
    "    clear_output(wait=True)\n"
   ]
  },
  {
   "cell_type": "code",
   "execution_count": 13,
   "metadata": {},
   "outputs": [
    {
     "data": {
      "text/plain": [
       "Text(0.5, 1.0, 'Reconstructed from prior')"
      ]
     },
     "execution_count": 13,
     "metadata": {},
     "output_type": "execute_result"
    },
    {
     "data": {
      "image/png": "[encoded data removed]",
      "text/plain": [
       "<Figure size 576x576 with 2 Axes>"
      ]
     },
     "metadata": {},
     "output_type": "display_data"
    }
   ],
   "source": [
    "outputs=vae((images.to(device),images_ta.to(device)))\n",
    "idx=2\n",
    "\n",
    "\n",
    "myim=images_ta[idx,:,:,:].numpy()\n",
    "\n",
    "myrec=outputs['pxprior']\n",
    "x_sample = myrec.sample().to('cpu')\n",
    "x_sample=x_sample.numpy()\n",
    "\n",
    "f,ax=plt.subplots(1,2,figsize=(8,8))\n",
    "ax[0].imshow(np.transpose(myim, (1, 2, 0)))\n",
    "ax[0].set_title('Target image')\n",
    "ax[1].imshow(np.transpose(x_sample[idx,:,:,:], (1, 2, 0)))\n",
    "ax[1].set_title('Reconstructed from prior')"
   ]
  },
  {
   "cell_type": "code",
   "execution_count": 14,
   "metadata": {},
   "outputs": [],
   "source": [
    "\n",
    "testloader = torch.utils.data.DataLoader(testset, batch_size=batchs,shuffle=False)\n",
    "images,images_ta=next(iter(testloader))"
   ]
  },
  {
   "cell_type": "code",
   "execution_count": 15,
   "metadata": {},
   "outputs": [
    {
     "name": "stdout",
     "output_type": "stream",
     "text": [
      "tensor(0.0122, device='cuda:0')\n"
     ]
    }
   ],
   "source": [
    "mylosses=[]\n",
    "for y,x in testloader:\n",
    "    outputs=vae((y.to(device),x.to(device)))\n",
    "    myrec=outputs['pxprior']\n",
    "    x_sample = myrec.sample()\n",
    "    mylosses.append(nn.MSELoss()(x.to(device),x_sample))\n",
    "        \n",
    "lo=np.sum(mylosses)/len(mylosses)\n",
    "print(lo)"
   ]
  },
  {
   "cell_type": "code",
   "execution_count": 57,
   "metadata": {},
   "outputs": [],
   "source": [
    "testloader = torch.utils.data.DataLoader(testset, batch_size=batchs,shuffle=False)\n",
    "test_data_iter = iter(testloader)"
   ]
  },
  {
   "cell_type": "code",
   "execution_count": 58,
   "metadata": {},
   "outputs": [
    {
     "name": "stderr",
     "output_type": "stream",
     "text": [
      "Clipping input data to the valid range for imshow with RGB data ([0..1] for floats or [0..255] for integers).\n"
     ]
    },
    {
     "data": {
      "text/plain": [
       "Text(0.5, 1.0, 'Reconstructed from prior')"
      ]
     },
     "execution_count": 58,
     "metadata": {},
     "output_type": "execute_result"
    },
    {
     "data": {
      "image/png": "[encoded data removed]",
      "text/plain": [
       "<Figure size 576x576 with 2 Axes>"
      ]
     },
     "metadata": {},
     "output_type": "display_data"
    }
   ],
   "source": [
    "y,x = next(test_data_iter)\n",
    "\n",
    "outputs=vae((y.to(device),x.to(device)))\n",
    "\n",
    "idx=18\n",
    "\n",
    "\n",
    "myim=x[idx,:,:,:].numpy()\n",
    "\n",
    "myrec=outputs['pxprior']\n",
    "x_sample = myrec.sample().to('cpu')\n",
    "x_sample=x_sample.numpy()\n",
    "\n",
    "f,ax=plt.subplots(1,2,figsize=(8,8))\n",
    "ax[0].imshow(np.transpose(myim, (1, 2, 0)))\n",
    "ax[0].set_title('Target image')\n",
    "ax[1].imshow(np.transpose(x_sample[idx,:,:,:], (1, 2, 0)))\n",
    "ax[1].set_title('Reconstructed from prior')"
   ]
  },
  {
   "cell_type": "code",
   "execution_count": 36,
   "metadata": {},
   "outputs": [
    {
     "data": {
      "text/plain": [
       "torch.Size([16, 3, 32, 32])"
      ]
     },
     "execution_count": 36,
     "metadata": {},
     "output_type": "execute_result"
    }
   ],
   "source": [
    "y,x = testset[6694]\n",
    "ybis,xbis = testset[2]\n",
    "yb=torch.stack((y,ybis),dim=0)\n",
    "xb=torch.stack((x,xbis),dim=0)\n",
    "\n",
    "y=torch.stack((y,testset[2][0],testset[3][0],testset[4][0],testset[5][0],testset[6][0],testset[7][0],testset[8][0],\n",
    "               testset[9][0],testset[10][0],testset[11][0],testset[12][0],testset[13][0],testset[14][0],\n",
    "               testset[15][0],testset[16][0]), dim=0)\n",
    "x=torch.stack((x,testset[2][1],testset[3][1],testset[4][1],testset[5][1],testset[6][1],testset[7][1],testset[8][1],\n",
    "               testset[9][1],testset[10][1],testset[11][1],testset[12][1],testset[13][1],testset[14][1],\n",
    "               testset[15][1],testset[16][1]), dim=0)\n",
    "\n",
    "x.shape\n"
   ]
  },
  {
   "cell_type": "code",
   "execution_count": 37,
   "metadata": {},
   "outputs": [
    {
     "data": {
      "text/plain": [
       "torch.Size([50, 3, 32, 32])"
      ]
     },
     "execution_count": 37,
     "metadata": {},
     "output_type": "execute_result"
    }
   ],
   "source": [
    "y=torch.cat((y,y,y,yb),dim=0)\n",
    "x=torch.cat((x,x,x,xb),dim=0)\n",
    "x.shape"
   ]
  },
  {
   "cell_type": "code",
   "execution_count": 38,
   "metadata": {},
   "outputs": [
    {
     "data": {
      "text/plain": [
       "torch.Size([50, 3, 8, 8])"
      ]
     },
     "execution_count": 38,
     "metadata": {},
     "output_type": "execute_result"
    }
   ],
   "source": [
    "y.shape"
   ]
  },
  {
   "cell_type": "code",
   "execution_count": 47,
   "metadata": {},
   "outputs": [
    {
     "data": {
      "text/plain": [
       "Text(0.5, 1.0, 'Reconstructed from prior')"
      ]
     },
     "execution_count": 47,
     "metadata": {},
     "output_type": "execute_result"
    },
    {
     "data": {
      "image/png": "[encoded data removed]",
      "text/plain": [
       "<Figure size 576x576 with 2 Axes>"
      ]
     },
     "metadata": {},
     "output_type": "display_data"
    }
   ],
   "source": [
    "outputs=vae((y.to(device),x.to(device)))\n",
    "\n",
    "idx=7\n",
    "\n",
    "\n",
    "myim=x[idx,:,:,:].numpy()\n",
    "\n",
    "myrec=outputs['pxprior']\n",
    "x_sample = myrec.sample().to('cpu')\n",
    "x_sample=x_sample.numpy()\n",
    "\n",
    "f,ax=plt.subplots(1,2,figsize=(8,8))\n",
    "ax[0].imshow(np.transpose(myim, (1, 2, 0)))\n",
    "ax[0].set_title('Target image')\n",
    "ax[1].imshow(np.transpose(x_sample[idx,:,:,:], (1, 2, 0)))\n",
    "ax[1].set_title('Reconstructed from prior')"
   ]
  },
  {
   "cell_type": "code",
   "execution_count": 15,
   "metadata": {},
   "outputs": [],
   "source": [
    "myim=testset[18]"
   ]
  },
  {
   "cell_type": "code",
   "execution_count": 16,
   "metadata": {},
   "outputs": [
    {
     "data": {
      "text/plain": [
       "<matplotlib.image.AxesImage at 0x1c3d569a780>"
      ]
     },
     "execution_count": 16,
     "metadata": {},
     "output_type": "execute_result"
    },
    {
     "data": {
      "image/png": "[encoded data removed]",
      "text/plain": [
       "<Figure size 432x288 with 1 Axes>"
      ]
     },
     "metadata": {},
     "output_type": "display_data"
    }
   ],
   "source": [
    "plt.figure()\n",
    "plt.imshow(np.transpose(myim[0],(1,2,0)))"
   ]
  },
  {
   "cell_type": "code",
   "execution_count": null,
   "metadata": {},
   "outputs": [],
   "source": []
  },
  {
   "cell_type": "code",
   "execution_count": null,
   "metadata": {},
   "outputs": [],
   "source": []
  }
 ],
 "metadata": {
  "kernelspec": {
   "display_name": "Python 3",
   "language": "python",
   "name": "python3"
  },
  "language_info": {
   "codemirror_mode": {
    "name": "ipython",
    "version": 3
   },
   "file_extension": ".py",
   "mimetype": "text/x-python",
   "name": "python",
   "nbconvert_exporter": "python",
   "pygments_lexer": "ipython3",
   "version": "3.6.6"
  }
 },
 "nbformat": 4,
 "nbformat_minor": 4
}
